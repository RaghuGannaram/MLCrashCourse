{
 "cells": [
  {
   "cell_type": "code",
   "execution_count": 1,
   "id": "e48d1c29",
   "metadata": {},
   "outputs": [
    {
     "name": "stdout",
     "output_type": "stream",
     "text": [
      "hello world!\n"
     ]
    }
   ],
   "source": [
    "print(\"hello world!\")"
   ]
  },
  {
   "cell_type": "code",
   "execution_count": 3,
   "id": "64193cd4",
   "metadata": {},
   "outputs": [
    {
     "data": {
      "text/plain": [
       "numpy.ndarray"
      ]
     },
     "execution_count": 3,
     "metadata": {},
     "output_type": "execute_result"
    }
   ],
   "source": [
    "import numpy as np\n",
    "\n",
    "np.array([1, 2, 3])\n",
    "arr = np.array([[1, 2, 3], [4, 5, 6], [7, 8, 9]], dtype=int)\n",
    "arr = arr.transpose()\n",
    "arr[0][2]\n",
    "arr.ndim\n",
    "np.array(100).ndim\n",
    "np.array([100]).ndim\n",
    "arr.shape\n",
    "arrx = np.array([[1, 2, 3], [4, 5, 6]], dtype=int)\n",
    "arrx.ndim\n",
    "arrx.shape\n",
    "arr.size\n",
    "arrx.size\n",
    "np.zeros((2, 1))\n",
    "np.ones((3, 6))\n",
    "np.empty((2, 2))\n",
    "np.arange(0, 20, 2)\n",
    "np.linspace(0, 20, 11)\n",
    "np.concatenate((arr, arrx))\n",
    "arry = np.array([[1, 2, 3], [4, 5, 6]])\n",
    "arry\n",
    "arry.reshape((3, 2))\n",
    "arry\n",
    "arr.reshape(-1)\n",
    "arr\n",
    "arrz = np.array([1, 2, 3, 4, 5, 6, 7, 8, 9])\n",
    "arrz.shape\n",
    "arrz\n",
    "row_arrz = arrz[np.newaxis, :]\n",
    "row_arrz\n",
    "col_arrz = arrz[:, np.newaxis]\n",
    "arrz.ndim\n",
    "np.expand_dims(arrz, axis=1)\n",
    "\n",
    "arrp = np.array([[1, 2, 3], [4, 5, 6]])\n",
    "arrp[arrp > 3]\n",
    "arrp[arrp <= 1]\n",
    "arrp[arrp % 2 == 0]\n",
    "arr = arr.transpose()\n",
    "arr\n",
    "arr[1:, 1:]\n",
    "arr.sum(axis=1)\n",
    "arrq = np.array([[1, 2], [3, 4]])\n",
    "arrq - np.array([[1, 1], [1, 1]])\n",
    "arrq * 5\n",
    "arrq / 2\n",
    "arrq**2\n",
    "arrq.max()\n",
    "arrq.max(axis=0)\n",
    "arrq.min(axis=1)\n",
    "np.random.random(4)\n",
    "np.random.random((2, 3))\n",
    "arrr = np.array([[1, 1, 2], [4, 2, 5]])\n",
    "np.unique(arrr)\n",
    "arrr.T\n",
    "arrr\n",
    "np.flip(arrr)\n",
    "np.flip(arrr, axis=0)\n",
    "np.flip(arrr, axis=1)\n",
    "arrr.flatten()\n",
    "# arrr\n",
    "# arrr?\n",
    "type(arrr)"
   ]
  }
 ],
 "metadata": {
  "kernelspec": {
   "display_name": ".venv",
   "language": "python",
   "name": "python3"
  },
  "language_info": {
   "codemirror_mode": {
    "name": "ipython",
    "version": 3
   },
   "file_extension": ".py",
   "mimetype": "text/x-python",
   "name": "python",
   "nbconvert_exporter": "python",
   "pygments_lexer": "ipython3",
   "version": "3.12.4"
  }
 },
 "nbformat": 4,
 "nbformat_minor": 5
}
