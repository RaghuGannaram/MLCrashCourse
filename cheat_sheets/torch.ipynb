{
 "cells": [
  {
   "cell_type": "code",
   "execution_count": 1,
   "id": "41507922",
   "metadata": {},
   "outputs": [
    {
     "name": "stdout",
     "output_type": "stream",
     "text": [
      "PyTorch version: 2.8.0+cu126\n",
      "CUDA available: True\n",
      "CUDA version: 12.6\n",
      "GPU name: NVIDIA GeForce MX450\n"
     ]
    }
   ],
   "source": [
    "import torch\n",
    "print(f\"PyTorch version: {torch.__version__}\")\n",
    "print(f\"CUDA available: {torch.cuda.is_available()}\")\n",
    "print(f\"CUDA version: {torch.version.cuda}\")\n",
    "if torch.cuda.is_available():\n",
    "    print(f\"GPU name: {torch.cuda.get_device_name(0)}\")"
   ]
  },
  {
   "cell_type": "code",
   "execution_count": 2,
   "id": "e3cb6ab3",
   "metadata": {},
   "outputs": [
    {
     "name": "stdout",
     "output_type": "stream",
     "text": [
      "CPU time: 7.9556 seconds\n",
      "GPU time: 1.5554 seconds\n",
      "GPU is 5.1x faster!\n"
     ]
    }
   ],
   "source": [
    "import torch\n",
    "import time\n",
    "\n",
    "# Test GPU vs CPU performance\n",
    "size = 10000\n",
    "\n",
    "# CPU computation\n",
    "start = time.time()\n",
    "a_cpu = torch.randn(size, size)\n",
    "b_cpu = torch.randn(size, size)\n",
    "c_cpu = torch.matmul(a_cpu, b_cpu)\n",
    "cpu_time = time.time() - start\n",
    "\n",
    "# GPU computation\n",
    "start = time.time()\n",
    "a_gpu = torch.randn(size, size).cuda()\n",
    "b_gpu = torch.randn(size, size).cuda()\n",
    "c_gpu = torch.matmul(a_gpu, b_gpu)\n",
    "gpu_time = time.time() - start\n",
    "\n",
    "print(f\"CPU time: {cpu_time:.4f} seconds\")\n",
    "print(f\"GPU time: {gpu_time:.4f} seconds\")\n",
    "print(f\"GPU is {cpu_time/gpu_time:.1f}x faster!\")"
   ]
  },
  {
   "cell_type": "code",
   "execution_count": 109,
   "id": "d0501a64",
   "metadata": {},
   "outputs": [
    {
     "data": {
      "text/plain": [
       "tensor([[1., 0., 5.],\n",
       "        [2., 7., 7.]], dtype=torch.float64)"
      ]
     },
     "execution_count": 109,
     "metadata": {},
     "output_type": "execute_result"
    }
   ],
   "source": [
    "import torch\n",
    "import numpy as np\n",
    "\n",
    "# Basic Creation\n",
    "torch.tensor([1, 2, 3]).dtype\n",
    "\n",
    "torch.tensor(np.array([4, 5, 6], dtype=np.float32)).dtype\n",
    "torch.zeros((3, 2, 4))\n",
    "torch.zeros((2, 3)).dtype\n",
    "torch.ones((2, 3, 1))\n",
    "torch.zeros((2, 3), dtype=torch.complex64)\n",
    "torch.ones((4, 4), dtype=bool)\n",
    "torch.full((2, 3), fill_value=72121212, dtype=torch.complex128)\n",
    "torch.empty((2, 3))\n",
    "torch.zeros(10, 2)\n",
    "\n",
    "# Range & Sequences\n",
    "torch.arange(0, 10, 2)\n",
    "torch.linspace(0, 10, 2)\n",
    "torch.logspace(0, 3, 4)\n",
    "\n",
    "# Random Generation\n",
    "torch.rand(3, 4)\n",
    "torch.rand(3, 4, generator=torch.Generator().manual_seed(42))\n",
    "torch.rand((2, 3), dtype=torch.complex128)\n",
    "torch.rand(10)\n",
    "torch.randn(10)\n",
    "torch.randint(0, 10, (3, 4))\n",
    "torch.randperm(10)\n",
    "\n",
    "# Type Specific Creation\n",
    "ta = torch.tensor([[1, 2, 3], [4, 5, 6]], dtype=torch.double)\n",
    "torch.zeros_like(ta)\n",
    "torch.ones_like(ta)\n",
    "torch.rand_like(ta)\n",
    "torch.randn_like(ta)\n",
    "torch.randint_like(ta, 0, 10)"
   ]
  },
  {
   "cell_type": "code",
   "execution_count": 107,
   "id": "72b2ef92",
   "metadata": {},
   "outputs": [
    {
     "data": {
      "text/plain": [
       "False"
      ]
     },
     "execution_count": 107,
     "metadata": {},
     "output_type": "execute_result"
    }
   ],
   "source": [
    "tb = torch.ones(2, 3, 4, 5)\n",
    "\n",
    "# Shape and size\n",
    "tb.size()\n",
    "tb.size(-1)\n",
    "tb.shape\n",
    "x_axis, y_axis,z_axis, time_axis  = tb.size()\n",
    "x_axis, y_axis,z_axis, time_axis  = tb.shape\n",
    "x_axis, y_axis, z_axis, time_axis\n",
    "\n",
    "tb.numel()\n",
    "tb.dim()\n",
    "tb.dtype\n",
    "tb.device\n",
    "\n",
    "# Type checking\n",
    "torch.is_tensor(tb)\n",
    "torch.is_floating_point(tb)\n",
    "tb.is_cuda"
   ]
  },
  {
   "cell_type": "code",
   "execution_count": null,
   "id": "c876386e",
   "metadata": {},
   "outputs": [
    {
     "data": {
      "text/plain": [
       "tensor([[ 1.4351, -2.0047,  0.2398,  1.2020, -0.2663, -0.9690,  0.0248,  1.9044,\n",
       "          1.6555,  1.3288,  0.2071,  1.0506],\n",
       "        [ 0.5366, -0.7531,  1.1138, -0.1150,  0.5644, -0.2061,  0.4808,  0.7454,\n",
       "         -1.2150, -2.3385,  0.1121,  0.2191]])"
      ]
     },
     "execution_count": 108,
     "metadata": {},
     "output_type": "execute_result"
    }
   ],
   "source": [
    "# Shape operations\n",
    "tc = torch.randn(2, 3, 4)\n",
    "\n",
    "tc.view(2, 12)\n",
    "# tc.view(-1, 4)\n",
    "# tc.view(2, -1)\n"
   ]
  }
 ],
 "metadata": {
  "kernelspec": {
   "display_name": ".venv",
   "language": "python",
   "name": "python3"
  },
  "language_info": {
   "codemirror_mode": {
    "name": "ipython",
    "version": 3
   },
   "file_extension": ".py",
   "mimetype": "text/x-python",
   "name": "python",
   "nbconvert_exporter": "python",
   "pygments_lexer": "ipython3",
   "version": "3.12.4"
  }
 },
 "nbformat": 4,
 "nbformat_minor": 5
}
