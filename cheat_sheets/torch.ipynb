{
 "cells": [
  {
   "cell_type": "code",
   "execution_count": 2,
   "id": "41507922",
   "metadata": {},
   "outputs": [
    {
     "name": "stdout",
     "output_type": "stream",
     "text": [
      "PyTorch version: 2.8.0\n",
      "CUDA available: False\n",
      "CUDA version: None\n"
     ]
    }
   ],
   "source": [
    "import torch\n",
    "print(f\"PyTorch version: {torch.__version__}\")\n",
    "print(f\"CUDA available: {torch.cuda.is_available()}\")\n",
    "print(f\"CUDA version: {torch.version.cuda}\")\n",
    "if torch.cuda.is_available():\n",
    "    print(f\"GPU name: {torch.cuda.get_device_name(0)}\")"
   ]
  },
  {
   "cell_type": "code",
   "execution_count": 2,
   "id": "e3cb6ab3",
   "metadata": {},
   "outputs": [
    {
     "name": "stdout",
     "output_type": "stream",
     "text": [
      "CPU time: 7.4130 seconds\n",
      "GPU time: 1.6099 seconds\n",
      "GPU is 4.6x faster!\n"
     ]
    }
   ],
   "source": [
    "import torch\n",
    "import time\n",
    "\n",
    "# Test GPU vs CPU performance\n",
    "size = 10000\n",
    "\n",
    "# CPU computation\n",
    "start = time.time()\n",
    "a_cpu = torch.randn(size, size)\n",
    "b_cpu = torch.randn(size, size)\n",
    "c_cpu = torch.matmul(a_cpu, b_cpu)\n",
    "cpu_time = time.time() - start\n",
    "\n",
    "# GPU computation\n",
    "start = time.time()\n",
    "a_gpu = torch.randn(size, size).cuda()\n",
    "b_gpu = torch.randn(size, size).cuda()\n",
    "c_gpu = torch.matmul(a_gpu, b_gpu)\n",
    "gpu_time = time.time() - start\n",
    "\n",
    "print(f\"CPU time: {cpu_time:.4f} seconds\")\n",
    "print(f\"GPU time: {gpu_time:.4f} seconds\")\n",
    "print(f\"GPU is {cpu_time/gpu_time:.1f}x faster!\")"
   ]
  },
  {
   "cell_type": "code",
   "execution_count": 159,
   "id": "d0501a64",
   "metadata": {},
   "outputs": [
    {
     "data": {
      "text/plain": [
       "tensor([0.9693, 0.2735, 0.0205], dtype=torch.float64)"
      ]
     },
     "execution_count": 159,
     "metadata": {},
     "output_type": "execute_result"
    }
   ],
   "source": [
    "import torch\n",
    "import numpy as np\n",
    "\n",
    "# Basic Creation\n",
    "torch.tensor([1, 2, 3]).dtype\n",
    "torch.tensor(np.array([4, 5, 6], dtype=np.float32)).dtype\n",
    "torch.zeros((3, 2, 4))\n",
    "torch.zeros((2, 3)).dtype\n",
    "torch.ones((2, 3, 1))\n",
    "torch.zeros((2, 3), dtype=torch.complex32)\n",
    "torch.ones((4, 4), dtype=bool)\n",
    "torch.full((2, 3), fill_value=72121212, dtype=torch.complex128)\n",
    "torch.empty((2, 3))\n",
    "torch.zeros(10, 2)\n",
    "\n",
    "# Range & Sequences\n",
    "torch.arange(0, 10, 2)\n",
    "torch.linspace(0, 1, 5)\n",
    "torch.logspace(0, 3, 4)\n",
    "\n",
    "# Random Generation\n",
    "torch.rand(3, 4)\n",
    "torch.rand((2, 3), dtype=torch.complex128)\n",
    "torch.rand(10)\n",
    "torch.randn(10)\n",
    "torch.randint(0, 10, (3, 4))\n",
    "torch.randperm(10)\n",
    "\n",
    "# Type Specific Creation\n",
    "ta = torch.tensor([1, 2, 3], dtype=torch.double)\n",
    "torch.zeros_like(ta)\n",
    "torch.ones_like(ta)\n",
    "torch.rand_like(ta)"
   ]
  },
  {
   "cell_type": "code",
   "execution_count": null,
   "id": "72b2ef92",
   "metadata": {},
   "outputs": [
    {
     "data": {
      "text/plain": [
       "True"
      ]
     },
     "execution_count": 207,
     "metadata": {},
     "output_type": "execute_result"
    }
   ],
   "source": [
    "tb = torch.ones(2, 3, 4, 5)\n",
    "\n",
    "# Shape and size\n",
    "tb.size()\n",
    "tb.size(-1)\n",
    "tb.shape\n",
    "x_axis, y_axis,z_axis, time_axis  = tb.size()\n",
    "x_axis, y_axis,z_axis, time_axis  = tb.shape\n",
    "x_axis, y_axis, z_axis, time_axis\n",
    "\n",
    "tb.numel()\n",
    "tb.dim()\n",
    "tb.dtype\n",
    "tb.device\n",
    "\n",
    "# Type checking\n",
    "torch.is_tensor(tb)\n",
    "torch.is_floating_point(tb)\n",
    "tb.is_cuda"
   ]
  },
  {
   "cell_type": "code",
   "execution_count": null,
   "id": "c876386e",
   "metadata": {},
   "outputs": [],
   "source": [
    "# Shape operations\n"
   ]
  }
 ],
 "metadata": {
  "kernelspec": {
   "display_name": ".venv",
   "language": "python",
   "name": "python3"
  },
  "language_info": {
   "codemirror_mode": {
    "name": "ipython",
    "version": 3
   },
   "file_extension": ".py",
   "mimetype": "text/x-python",
   "name": "python",
   "nbconvert_exporter": "python",
   "pygments_lexer": "ipython3",
   "version": "3.12.4"
  }
 },
 "nbformat": 4,
 "nbformat_minor": 5
}
