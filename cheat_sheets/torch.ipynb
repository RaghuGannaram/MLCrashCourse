{
 "cells": [
  {
   "cell_type": "code",
   "execution_count": 2,
   "id": "41507922",
   "metadata": {},
   "outputs": [
    {
     "name": "stdout",
     "output_type": "stream",
     "text": [
      "PyTorch version: 2.8.0\n",
      "CUDA available: False\n",
      "CUDA version: None\n"
     ]
    }
   ],
   "source": [
    "import torch\n",
    "print(f\"PyTorch version: {torch.__version__}\")\n",
    "print(f\"CUDA available: {torch.cuda.is_available()}\")\n",
    "print(f\"CUDA version: {torch.version.cuda}\")\n",
    "if torch.cuda.is_available():\n",
    "    print(f\"GPU name: {torch.cuda.get_device_name(0)}\")"
   ]
  },
  {
   "cell_type": "code",
   "execution_count": null,
   "id": "e3cb6ab3",
   "metadata": {},
   "outputs": [],
   "source": [
    "import torch\n",
    "import time\n",
    "\n",
    "# Test GPU vs CPU performance\n",
    "size = 10000\n",
    "\n",
    "# CPU computation\n",
    "start = time.time()\n",
    "a_cpu = torch.randn(size, size)\n",
    "b_cpu = torch.randn(size, size)\n",
    "c_cpu = torch.matmul(a_cpu, b_cpu)\n",
    "cpu_time = time.time() - start\n",
    "\n",
    "# GPU computation\n",
    "start = time.time()\n",
    "a_gpu = torch.randn(size, size).cuda()\n",
    "b_gpu = torch.randn(size, size).cuda()\n",
    "c_gpu = torch.matmul(a_gpu, b_gpu)\n",
    "gpu_time = time.time() - start\n",
    "\n",
    "print(f\"CPU time: {cpu_time:.4f} seconds\")\n",
    "print(f\"GPU time: {gpu_time:.4f} seconds\")\n",
    "print(f\"GPU is {cpu_time/gpu_time:.1f}x faster!\")"
   ]
  },
  {
   "cell_type": "code",
   "execution_count": 39,
   "id": "dc8d2e42",
   "metadata": {},
   "outputs": [
    {
     "data": {
      "text/plain": [
       "tensor([[ 0,  1,  2,  3],\n",
       "        [ 4,  5,  6,  7],\n",
       "        [ 8,  9, 10, 11],\n",
       "        [12, 13, 14, 15]])"
      ]
     },
     "execution_count": 39,
     "metadata": {},
     "output_type": "execute_result"
    }
   ],
   "source": [
    "import torch\n",
    "\n",
    "A = torch.arange(16).reshape(4,4)\n",
    "A[0]          # first row, shape (4,)\n",
    "A[:, 0]       # first col, shape (4,)\n",
    "A[-1]         # last row\n",
    "A[..., -1]    # last col\n",
    "A[1:3, 2:]    # ranges; step allowed: A[::2, ::-1]\n",
    "A"
   ]
  },
  {
   "cell_type": "code",
   "execution_count": null,
   "id": "cfb333f9",
   "metadata": {},
   "outputs": [],
   "source": [
    "A[0:1, :]     # shape (1, 4)\n",
    "A[:, 1:2]     # shape (4, 1)\n",
    "A.unsqueeze(0)  # add leading dim\n",
    "A.unsqueeze(-1) # add last dim\n"
   ]
  },
  {
   "cell_type": "code",
   "execution_count": 45,
   "id": "b0997cf6",
   "metadata": {},
   "outputs": [
    {
     "data": {
      "text/plain": [
       "tensor([ 0,  2,  4,  6,  8, 10, 12, 14])"
      ]
     },
     "execution_count": 45,
     "metadata": {},
     "output_type": "execute_result"
    }
   ],
   "source": [
    "rows = torch.tensor([0, 2, 2])\n",
    "cols = torch.tensor([1, 3, 0])\n",
    "A[rows, cols]        # element gather, shape (3,)  (COPY)\n",
    "A[[0,2]]             # pick rows 0 and 2 (COPY)\n",
    "A[[0,2], [2]]        # pick rows 0 and 2 (COPY) and col 2\n",
    "mask = A % 2 == 0\n",
    "A[mask]              # 1D packed tensor of even elements (COPY)\n"
   ]
  }
 ],
 "metadata": {
  "kernelspec": {
   "display_name": ".venv",
   "language": "python",
   "name": "python3"
  },
  "language_info": {
   "codemirror_mode": {
    "name": "ipython",
    "version": 3
   },
   "file_extension": ".py",
   "mimetype": "text/x-python",
   "name": "python",
   "nbconvert_exporter": "python",
   "pygments_lexer": "ipython3",
   "version": "3.13.5"
  }
 },
 "nbformat": 4,
 "nbformat_minor": 5
}
