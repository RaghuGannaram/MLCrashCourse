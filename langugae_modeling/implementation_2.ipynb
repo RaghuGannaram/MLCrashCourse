{
 "cells": [
  {
   "cell_type": "code",
   "execution_count": null,
   "id": "80b00025",
   "metadata": {},
   "outputs": [
    {
     "data": {
      "text/plain": [
       "45594"
      ]
     },
     "execution_count": 55,
     "metadata": {},
     "output_type": "execute_result"
    }
   ],
   "source": [
    "import pandas as pd\n",
    "import torch\n",
    "import torch.nn.functional as F\n",
    "\n",
    "words = []\n",
    "# with open(\"./data/western_names.txt\") as file:\n",
    "#     words = file.read().splitlines()\n",
    "\n",
    "with open(\"./data/indian_names.csv\", encoding=\"utf-8\") as file:\n",
    "    df = pd.read_csv(file, header=None)\n",
    "    words = df.iloc[:, 0].dropna().tolist()\n",
    "    words = [w.lower() for w in words if w.isalpha()]\n",
    "    words = words[1:]\n",
    "words[0:10]\n",
    "min(len(w) for w in words)\n",
    "max(len(w) for w in words)\n",
    "len(\"\".join(w for w in words)) + len(words)  # total chars from all words +len(words) for the dots"
   ]
  },
  {
   "cell_type": "code",
   "execution_count": 56,
   "id": "e0de79d3",
   "metadata": {},
   "outputs": [],
   "source": [
    "unique_chars = sorted(list(set(\"\".join(words))))\n",
    "\n",
    "char_to_idx = {ch: i + 1 for i, ch in enumerate(unique_chars)}\n",
    "char_to_idx[\".\"] = 0\n",
    "idx_to_char = {i: ch for ch, i in char_to_idx.items()}\n",
    "vocab_size = len(char_to_idx)\n",
    "\n",
    "X, Y = [], []\n",
    "for w in words:\n",
    "    chs = [\".\"] + list(w) + [\".\"]\n",
    "    for ch1, ch2 in zip(chs, chs[1:]):\n",
    "        idx1 = char_to_idx[ch1]\n",
    "        idx2 = char_to_idx[ch2]\n",
    "        X.append(idx1)\n",
    "        Y.append(idx2)\n",
    "\n",
    "X = torch.tensor(X)\n",
    "Y = torch.tensor(Y)\n",
    "train_size = X.nelement()\n",
    "\n",
    "g = torch.Generator().manual_seed(2147483647)\n",
    "W = torch.randn((vocab_size, vocab_size), generator=g, requires_grad=True)"
   ]
  },
  {
   "cell_type": "code",
   "execution_count": null,
   "id": "5c21b2f5",
   "metadata": {},
   "outputs": [
    {
     "name": "stdout",
     "output_type": "stream",
     "text": [
      "2.189225435256958\n"
     ]
    }
   ],
   "source": [
    "for _ in range(100):\n",
    "    # Forward pass\n",
    "    xenc = F.one_hot(X, num_classes=vocab_size).float()\n",
    "    logits = xenc @ W\n",
    "    counts = logits.exp()\n",
    "    probs = counts / counts.sum(1, keepdim=True)\n",
    "    loss = -probs[torch.arange(train_size), Y].log().mean()\n",
    "    # print(loss.item())\n",
    "\n",
    "    # Backward pass\n",
    "    W.grad = None\n",
    "    loss.backward()\n",
    "\n",
    "    # Update weights\n",
    "    W.data += -50 * W.grad\n",
    "print(loss.item())"
   ]
  },
  {
   "cell_type": "code",
   "execution_count": 60,
   "id": "54b8680c",
   "metadata": {},
   "outputs": [
    {
     "data": {
      "text/plain": [
       "tensor(1., grad_fn=<SumBackward0>)"
      ]
     },
     "execution_count": 60,
     "metadata": {},
     "output_type": "execute_result"
    }
   ],
   "source": [
    "probs[0].sum()"
   ]
  },
  {
   "cell_type": "code",
   "execution_count": null,
   "id": "be571f64",
   "metadata": {},
   "outputs": [
    {
     "name": "stdout",
     "output_type": "stream",
     "text": [
      "knahpahmse\n",
      "seahahrsahrseabnvnitpauebvlu\n",
      "j\n",
      "mau\n",
      "sais\n",
      "al\n",
      "trrtrhrjaaahsrnahvna\n",
      "pue\n",
      "fna\n",
      "aitvgeahmrnikdirmsau\n",
      "geonea\n",
      "searje\n",
      "s\n",
      "mnahge\n",
      "due\n",
      "maahrl\n",
      "ritaimsaijonahvmihvcaahktwuuuhbnikrhms\n",
      "nairmmcauahbn\n",
      "mcua\n",
      "dal\n"
     ]
    }
   ],
   "source": [
    "g = torch.Generator().manual_seed(2147483647+1)\n",
    "for _ in range(20):\n",
    "    idx = 0\n",
    "    generated_sequence = []\n",
    "    while True:\n",
    "        idx = torch.multinomial(probs[idx], num_samples=1, replacement=True, generator=g).item()\n",
    "        if idx == 0:\n",
    "            break\n",
    "        generated_sequence.append(idx_to_char[idx])\n",
    "    print(\"\".join(generated_sequence))"
   ]
  }
 ],
 "metadata": {
  "kernelspec": {
   "display_name": ".venv",
   "language": "python",
   "name": "python3"
  },
  "language_info": {
   "codemirror_mode": {
    "name": "ipython",
    "version": 3
   },
   "file_extension": ".py",
   "mimetype": "text/x-python",
   "name": "python",
   "nbconvert_exporter": "python",
   "pygments_lexer": "ipython3",
   "version": "3.12.4"
  }
 },
 "nbformat": 4,
 "nbformat_minor": 5
}
