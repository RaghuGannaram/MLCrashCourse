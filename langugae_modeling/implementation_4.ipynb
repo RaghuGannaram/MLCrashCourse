{
 "cells": [
  {
   "cell_type": "code",
   "execution_count": 2,
   "id": "6fa3f27b",
   "metadata": {},
   "outputs": [
    {
     "name": "stdout",
     "output_type": "stream",
     "text": [
      "Using device: cpu\n",
      "GPU: NVIDIA GeForce MX450\n",
      "CUDA version: 12.6\n"
     ]
    },
    {
     "data": {
      "text/plain": [
       "45594"
      ]
     },
     "execution_count": 2,
     "metadata": {},
     "output_type": "execute_result"
    }
   ],
   "source": [
    "import pandas as pd\n",
    "import matplotlib.pyplot as plt\n",
    "import torch\n",
    "import torch.nn.functional as F\n",
    "import random\n",
    "\n",
    "# Check CUDA availability\n",
    "device = torch.device(\"cuda\" if torch.cuda.is_available() else \"cpu\")\n",
    "device = 'cpu'  # force cpu\n",
    "print(f\"Using device: {device}\")\n",
    "if torch.cuda.is_available():\n",
    "    print(f\"GPU: {torch.cuda.get_device_name(0)}\")\n",
    "    print(f\"CUDA version: {torch.version.cuda}\")\n",
    "\n",
    "# Load words\n",
    "words = []\n",
    "# with open(\"./data/western_names.txt\") as file:\n",
    "#     words = file.read().splitlines()\n",
    "\n",
    "with open(\"./data/indian_names.csv\", encoding=\"utf-8\") as file:\n",
    "    df = pd.read_csv(file, header=None)\n",
    "    words = df.iloc[:, 0].dropna().tolist()\n",
    "    words = [w.lower() for w in words if w.isalpha()]\n",
    "    words = words[1:]\n",
    "words[0:10]\n",
    "min(len(w) for w in words), max(len(w) for w in words)\n",
    "len(\"\".join(w for w in words)) + len(\n",
    "    words\n",
    ")  # total chars from all words +len(words) for the dots"
   ]
  },
  {
   "cell_type": "code",
   "execution_count": 3,
   "id": "79215ef4",
   "metadata": {},
   "outputs": [],
   "source": [
    "# Initialize character embeddings\n",
    "unique_tokens = sorted(list(set(\"\".join(words))))\n",
    "\n",
    "token_to_idx = {ch: i + 1 for i, ch in enumerate(unique_tokens)}\n",
    "token_to_idx[\".\"] = 0\n",
    "idx_to_token = {i: ch for ch, i in token_to_idx.items()}\n",
    "vocab_size = len(token_to_idx)\n",
    "eps = 1e-5\n",
    "\n",
    "# hyperparameters on cpu\n",
    "context_size = 4\n",
    "embed_size = 8\n",
    "batch_size = 32\n",
    "network_size = 128\n",
    "\n",
    "# hyperparameters on gpu\n",
    "# context_size = 8\n",
    "# embed_size = 64\n",
    "# batch_size = 2048\n",
    "# network_size = 1024\n",
    "\n",
    "\n",
    "def build_dataset(words):\n",
    "    X, Y = [], []\n",
    "    for w in words:\n",
    "        context = [0] * context_size\n",
    "        for ch in w + \".\":\n",
    "            idx = token_to_idx[ch]\n",
    "            X.append(context)\n",
    "            Y.append(idx)\n",
    "            context = context[1:] + [idx]\n",
    "    X = torch.tensor(X, device=device)\n",
    "    Y = torch.tensor(Y, device=device)\n",
    "    return X, Y\n",
    "\n",
    "\n",
    "random.seed(42)\n",
    "random.shuffle(words)\n",
    "n1 = int(0.8 * len(words))\n",
    "n2 = int(0.9 * len(words))\n",
    "X_train, Y_train = build_dataset(words[:n1])\n",
    "X_val, Y_val = build_dataset(words[n1:n2])\n",
    "X_test, Y_test = build_dataset(words[n2:])"
   ]
  },
  {
   "cell_type": "code",
   "execution_count": 4,
   "id": "4ba9de0e",
   "metadata": {},
   "outputs": [
    {
     "name": "stdout",
     "output_type": "stream",
     "text": [
      "parameters:  8179\n"
     ]
    }
   ],
   "source": [
    "# Initialize parameters\n",
    "g = torch.Generator(device=device).manual_seed(2147483647)\n",
    "\n",
    "E = torch.randn((vocab_size, embed_size), generator=g, device=device)\n",
    "W1 = torch.randn((context_size * embed_size, network_size), generator=g, device=device) * ((5/3) / (context_size * embed_size) ** 0.5)\n",
    "b1 = torch.randn(network_size, generator=g, device=device) * 0.01\n",
    "W2 = torch.randn((network_size, vocab_size), generator=g, device=device) * 0.01\n",
    "b2 = torch.randn(vocab_size, generator=g, device=device) * 0\n",
    "\n",
    "# batchnorm parameters\n",
    "bn_gamma = torch.ones((1, network_size), device=device)\n",
    "bn_beta = torch.zeros((1, network_size), device=device)\n",
    "bn_mean_running = torch.zeros((1, network_size), device=device)\n",
    "bn_std_running = torch.ones((1, network_size), device=device)\n",
    "\n",
    "parameters = [E, W1, b1, W2, b2, bn_gamma, bn_beta]\n",
    "print(\"parameters: \", sum(p.nelement() for p in parameters))\n",
    "for p in parameters:\n",
    "    p.requires_grad = True"
   ]
  },
  {
   "cell_type": "code",
   "execution_count": 5,
   "id": "446a7e19",
   "metadata": {},
   "outputs": [
    {
     "name": "stdout",
     "output_type": "stream",
     "text": [
      "1000: 2.2916\n",
      "2000: 1.5208\n",
      "3000: 1.8734\n",
      "4000: 2.1950\n",
      "5000: 1.4529\n",
      "6000: 2.0911\n",
      "7000: 1.4530\n",
      "8000: 1.4753\n",
      "9000: 1.4037\n",
      "10000: 1.5935\n",
      "1.5934789180755615\n"
     ]
    }
   ],
   "source": [
    "# training\n",
    "X = X_train\n",
    "Y = Y_train\n",
    "lossi = []\n",
    "\n",
    "for i in range(10_000):\n",
    "    # mini-batch\n",
    "    ix = torch.randint(0, X.size(0), (batch_size,), device=device)\n",
    "    X_batch, Y_batch = X[ix], Y[ix]\n",
    "\n",
    "\n",
    "    # forward pass\n",
    "    # Input layer\n",
    "    I = E[X_batch].view(-1, context_size * embed_size)\n",
    "\n",
    "    # Linear layer\n",
    "    H_preact = I @ W1 + b1\n",
    "\n",
    "    # Batch normalization layer\n",
    "    bn_mean_i = H_preact.mean(0, keepdim=True)\n",
    "    bn_std_i = H_preact.std(0, keepdim=True)\n",
    "    H_preact = bn_gamma * (H_preact - bn_mean_i) / (bn_std_i + eps) + bn_beta\n",
    "    with torch.no_grad():\n",
    "        bn_mean_running = 0.9 * bn_mean_running + 0.1 * bn_mean_i\n",
    "        bn_std_running = 0.9 * bn_std_running + 0.1 * bn_std_i\n",
    "\n",
    "    # Non-linear layer\n",
    "    H = torch.tanh(H_preact)\n",
    "\n",
    "    # Logit layer\n",
    "    L = H @ W2 + b2\n",
    "    loss = F.cross_entropy(L, Y_batch)\n",
    "\n",
    "\n",
    "    # backward pass\n",
    "    for p in parameters:\n",
    "        p.grad = None\n",
    "    loss.backward()\n",
    "\n",
    "\n",
    "    # update parameters\n",
    "    learning_rate = 0.05 if i < 50_000 else 0.01\n",
    "    for p in parameters:\n",
    "        p.data += learning_rate * -p.grad\n",
    "\n",
    "    # track stats\n",
    "    lossi.append(loss.log10().item())\n",
    "    if (i + 1) % 1_000 == 0:\n",
    "        print(f\"{i+1}: {loss.item():.4f}\")\n",
    "\n",
    "print(loss.item())"
   ]
  },
  {
   "cell_type": "code",
   "execution_count": 6,
   "id": "65ef27d8",
   "metadata": {},
   "outputs": [
    {
     "data": {
      "text/plain": [
       "[<matplotlib.lines.Line2D at 0x26d6fe25310>]"
      ]
     },
     "execution_count": 6,
     "metadata": {},
     "output_type": "execute_result"
    },
    {
     "data": {
      "image/png": "[encoded data removed]",
      "text/plain": [
       "<Figure size 640x480 with 1 Axes>"
      ]
     },
     "metadata": {},
     "output_type": "display_data"
    }
   ],
   "source": [
    "plt.plot(torch.tensor(lossi).view(-1,200).mean(dim=1))"
   ]
  },
  {
   "cell_type": "code",
   "execution_count": 7,
   "id": "94ca4446",
   "metadata": {},
   "outputs": [
    {
     "name": "stdout",
     "output_type": "stream",
     "text": [
      "val 1.6448580026626587\n",
      "test 1.6501632928848267\n"
     ]
    }
   ],
   "source": [
    "@torch.no_grad()\n",
    "def loss_by_split(split):\n",
    "    X, Y = {\n",
    "        \"train\": (X_train, Y_train),\n",
    "        \"val\": (X_val, Y_val),\n",
    "        \"test\": (X_test, Y_test),\n",
    "    }[split]\n",
    "    I = E[X].view(-1, context_size * embed_size)\n",
    "    H_preact = I @ W1 + b1\n",
    "    H_preact = (\n",
    "        bn_gamma * (H_preact - bn_mean_running) / (bn_std_running + eps) + bn_beta\n",
    "    )\n",
    "    H = torch.tanh(H_preact)\n",
    "    L = H @ W2 + b2\n",
    "    loss = F.cross_entropy(L, Y)\n",
    "    print(split, loss.item())\n",
    "loss_by_split(\"val\")\n",
    "loss_by_split(\"test\")"
   ]
  },
  {
   "cell_type": "code",
   "execution_count": 23,
   "id": "48c07c99",
   "metadata": {},
   "outputs": [
    {
     "name": "stdout",
     "output_type": "stream",
     "text": [
      "Generated samples: shmit.\n",
      "Generated samples: prindr.\n",
      "Generated samples: sulhik.\n",
      "Generated samples: svisrapceapashcho.\n",
      "Generated samples: karemvi.\n",
      "Generated samples: shmitlil.\n",
      "Generated samples: prujvim.\n",
      "Generated samples: suqbnkarmesh.\n",
      "Generated samples: subhikchajbyantixalhilral.\n",
      "Generated samples: surman.\n",
      "Generated samples: mtimalgiltzashir.\n",
      "Generated samples: srbob.\n",
      "Generated samples: shfall.\n",
      "Generated samples: setstu.\n",
      "Generated samples: shurb.\n",
      "Generated samples: sur.\n",
      "Generated samples: kfueenq.\n",
      "Generated samples: bifukhalmiq.\n",
      "Generated samples: shek.\n",
      "Generated samples: suryy.\n"
     ]
    }
   ],
   "source": [
    "# Generate samples\n",
    "for _ in range(20):\n",
    "    samples = []\n",
    "    context = [0] * context_size\n",
    "    while True:\n",
    "        I = E[torch.tensor([context])].view(-1, context_size * embed_size)\n",
    "        H = torch.tanh(I @ W1 + b1)\n",
    "        logits = H @ W2 + b2\n",
    "        probs = F.softmax(logits, dim=1)\n",
    "        idx = torch.multinomial(probs, num_samples=1).item()\n",
    "        samples.append(idx)\n",
    "        context = context[1:] + [idx]\n",
    "        if idx == 0:\n",
    "            break\n",
    "    print(\"Generated samples:\", \"\".join(idx_to_token[i] for i in samples))"
   ]
  }
 ],
 "metadata": {
  "kernelspec": {
   "display_name": ".venv",
   "language": "python",
   "name": "python3"
  },
  "language_info": {
   "codemirror_mode": {
    "name": "ipython",
    "version": 3
   },
   "file_extension": ".py",
   "mimetype": "text/x-python",
   "name": "python",
   "nbconvert_exporter": "python",
   "pygments_lexer": "ipython3",
   "version": "3.12.4"
  }
 },
 "nbformat": 4,
 "nbformat_minor": 5
}
