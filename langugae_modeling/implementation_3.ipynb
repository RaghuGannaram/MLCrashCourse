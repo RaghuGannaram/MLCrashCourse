{
 "cells": [
  {
   "cell_type": "code",
   "execution_count": 1,
   "id": "0f2b5e00",
   "metadata": {},
   "outputs": [
    {
     "data": {
      "text/plain": [
       "15"
      ]
     },
     "execution_count": 1,
     "metadata": {},
     "output_type": "execute_result"
    }
   ],
   "source": [
    "import pandas as pd\n",
    "import torch\n",
    "import torch.nn.functional as F\n",
    "\n",
    "words = []\n",
    "with open(\"./data/western_names.txt\") as file:\n",
    "    words = file.read().splitlines()\n",
    "\n",
    "# with open(\"./data/indian_names.csv\", encoding=\"utf-8\") as file:\n",
    "#     df = pd.read_csv(file, header=None)\n",
    "#     words = df.iloc[:, 0].dropna().tolist()\n",
    "#     words = [w.lower() for w in words if w.isalpha()]\n",
    "#     words = words[1:]\n",
    "words[0:10]\n",
    "len(words)\n",
    "min(len(w) for w in words)\n",
    "max(len(w) for w in words)"
   ]
  }
 ],
 "metadata": {
  "kernelspec": {
   "display_name": ".venv",
   "language": "python",
   "name": "python3"
  },
  "language_info": {
   "codemirror_mode": {
    "name": "ipython",
    "version": 3
   },
   "file_extension": ".py",
   "mimetype": "text/x-python",
   "name": "python",
   "nbconvert_exporter": "python",
   "pygments_lexer": "ipython3",
   "version": "3.12.4"
  }
 },
 "nbformat": 4,
 "nbformat_minor": 5
}
