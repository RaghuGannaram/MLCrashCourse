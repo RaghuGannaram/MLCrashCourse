{
 "cells": [
  {
   "cell_type": "code",
   "execution_count": 70,
   "id": "0f2b5e00",
   "metadata": {},
   "outputs": [
    {
     "data": {
      "text/plain": [
       "45594"
      ]
     },
     "execution_count": 70,
     "metadata": {},
     "output_type": "execute_result"
    }
   ],
   "source": [
    "import pandas as pd\n",
    "import matplotlib.pyplot as plt\n",
    "import torch\n",
    "import torch.nn.functional as F\n",
    "import random\n",
    "\n",
    "# Load words\n",
    "words = []\n",
    "# with open(\"./data/western_names.txt\") as file:\n",
    "#     words = file.read().splitlines()\n",
    "\n",
    "with open(\"./data/indian_names.csv\", encoding=\"utf-8\") as file:\n",
    "    df = pd.read_csv(file, header=None)\n",
    "    words = df.iloc[:, 0].dropna().tolist()\n",
    "    words = [w.lower() for w in words if w.isalpha()]\n",
    "    words = words[1:]\n",
    "words[0:10]\n",
    "min(len(w) for w in words)\n",
    "max(len(w) for w in words)\n",
    "len(\"\".join(w for w in words)) + len(words)  # total chars from all words +len(words) for the dots"
   ]
  },
  {
   "cell_type": "code",
   "execution_count": 57,
   "id": "c021118d",
   "metadata": {},
   "outputs": [],
   "source": [
    "# Initialize character embeddings\n",
    "unique_chars = sorted(list(set(\"\".join(words))))\n",
    "\n",
    "char_to_idx = {ch: i + 1 for i, ch in enumerate(unique_chars)}\n",
    "char_to_idx[\".\"] = 0\n",
    "idx_to_char = {i: ch for ch, i in char_to_idx.items()}\n",
    "vocab_size = len(char_to_idx)\n",
    "context_size = 3\n",
    "embed_size = 2\n",
    "\n",
    "\n",
    "def build_dataset(words):\n",
    "    X, Y = [], []\n",
    "    for w in words:\n",
    "        context = [0] * context_size\n",
    "        for ch in w + \".\":\n",
    "            idx = char_to_idx[ch]\n",
    "            X.append(context)\n",
    "            Y.append(idx)\n",
    "            context = context[1:] + [idx]\n",
    "    X = torch.tensor(X)\n",
    "    Y = torch.tensor(Y)\n",
    "    return X, Y\n",
    "\n",
    "\n",
    "random.seed(42)\n",
    "random.shuffle(words)\n",
    "n1 = int(0.8 * len(words))\n",
    "n2 = int(0.9 * len(words))\n",
    "X_train, Y_train = build_dataset(words[:n1])\n",
    "X_val, Y_val = build_dataset(words[n1:n2])\n",
    "X_test, Y_test = build_dataset(words[n2:])"
   ]
  },
  {
   "cell_type": "code",
   "execution_count": 85,
   "id": "2d7e337f",
   "metadata": {},
   "outputs": [],
   "source": [
    "# Initialize parameters\n",
    "g = torch.Generator().manual_seed(2147483647)\n",
    "\n",
    "E = torch.randn((vocab_size, embed_size), generator=g)\n",
    "W1 = torch.randn((context_size * embed_size, 100), generator=g)\n",
    "b1 = torch.randn(100, generator=g)\n",
    "W2 = torch.randn((100, vocab_size), generator=g)\n",
    "b2 = torch.randn(vocab_size, generator=g)\n",
    "\n",
    "parameters = [E, W1, b1, W2, b2]\n",
    "for p in parameters:\n",
    "    p.requires_grad = True"
   ]
  },
  {
   "cell_type": "code",
   "execution_count": 94,
   "id": "475fe4ad",
   "metadata": {},
   "outputs": [
    {
     "name": "stdout",
     "output_type": "stream",
     "text": [
      "1.6312671899795532\n"
     ]
    }
   ],
   "source": [
    "# training\n",
    "X = X_train\n",
    "Y = Y_train\n",
    "\n",
    "for _ in range(10000):\n",
    "    # mini-batch\n",
    "    ix = torch.randint(0, X.size(0), (128,))\n",
    "    Xb, Yb = X[ix], Y[ix]\n",
    "\n",
    "    # forward pass\n",
    "    I = E[Xb].view(-1, context_size * embed_size) # Input layer\n",
    "    H = torch.tanh(I @ W1 + b1)  # Hidden layer\n",
    "    L = H @ W2 + b2  # Logit layer\n",
    "    loss = F.cross_entropy(L, Yb)\n",
    "\n",
    "    # backward pass\n",
    "    for p in parameters:\n",
    "        p.grad = None\n",
    "    loss.backward()\n",
    "\n",
    "    # update parameters\n",
    "    for p in parameters:\n",
    "        p.data += 0.1 * -p.grad\n",
    "\n",
    "print(loss.item())"
   ]
  },
  {
   "cell_type": "code",
   "execution_count": 79,
   "id": "6aeed17e",
   "metadata": {},
   "outputs": [
    {
     "name": "stdout",
     "output_type": "stream",
     "text": [
      "1.7438029050827026\n"
     ]
    }
   ],
   "source": [
    "# loss for validation set\n",
    "with torch.no_grad():\n",
    "    I = E[X_val].view(-1, context_size * embed_size) # Input layer\n",
    "    H = torch.tanh(I @ W1 + b1)  # Hidden layer\n",
    "    L = H @ W2 + b2  # Logit layer\n",
    "    loss = F.cross_entropy(L, Y_val)\n",
    "    print(loss.item())"
   ]
  },
  {
   "cell_type": "code",
   "execution_count": 77,
   "id": "824e3c63",
   "metadata": {},
   "outputs": [
    {
     "name": "stdout",
     "output_type": "stream",
     "text": [
      "1.7310056686401367\n"
     ]
    }
   ],
   "source": [
    "# loss for test set\n",
    "with torch.no_grad():\n",
    "    I = E[X_test].view(-1, context_size * embed_size) # Input layer\n",
    "    H = torch.tanh(I @ W1 + b1)  # Hidden layer\n",
    "    L = H @ W2 + b2  # Logit layer\n",
    "    loss = F.cross_entropy(L, Y_test)\n",
    "    print(loss.item())"
   ]
  },
  {
   "cell_type": "code",
   "execution_count": 98,
   "id": "460fc0a4",
   "metadata": {},
   "outputs": [
    {
     "data": {
      "image/png": "[encoded data removed]",
      "text/plain": [
       "<Figure size 1000x500 with 1 Axes>"
      ]
     },
     "metadata": {},
     "output_type": "display_data"
    }
   ],
   "source": [
    "# visualize embedding space\n",
    "plt.figure(figsize=(10, 5))\n",
    "plt.scatter(E[:,0].data, E[:,1].data, s=120)\n",
    "for i in range(E.shape[0]):\n",
    "    plt.text(E[i,0].item(), E[i,1].item(), idx_to_char[i], ha=\"center\", va=\"center\", color=\"white\")\n",
    "plt.grid(\"minor\")"
   ]
  },
  {
   "cell_type": "code",
   "execution_count": 97,
   "id": "ff7729b4",
   "metadata": {},
   "outputs": [
    {
     "name": "stdout",
     "output_type": "stream",
     "text": [
      "Generated samples: bater.\n",
      "Generated samples: propil.\n",
      "Generated samples: bul.\n",
      "Generated samples: raresh.\n",
      "Generated samples: rajar.\n",
      "Generated samples: samekash.\n",
      "Generated samples: vairmanesh.\n",
      "Generated samples: ritphender.\n",
      "Generated samples: sanmil.\n",
      "Generated samples: sanishnumar.\n",
      "Generated samples: rah.\n",
      "Generated samples: sanid.\n",
      "Generated samples: ulenesh.\n",
      "Generated samples: din.\n",
      "Generated samples: dev.\n",
      "Generated samples: sohu.\n",
      "Generated samples: sahid.\n",
      "Generated samples: surenachayan.\n",
      "Generated samples: sanjeer.\n",
      "Generated samples: marf.\n"
     ]
    }
   ],
   "source": [
    "# Generate samples\n",
    "for _ in range(20):\n",
    "    samples = []\n",
    "    context = [0] * context_size\n",
    "    while True:\n",
    "        I = E[torch.tensor([context])].view(-1, context_size * embed_size)\n",
    "        H = torch.tanh(I @ W1 + b1)\n",
    "        logits = H @ W2 + b2\n",
    "        probs = F.softmax(logits, dim=1)\n",
    "        idx = torch.multinomial(probs, num_samples=1).item()\n",
    "        samples.append(idx)\n",
    "        context = context[1:] + [idx]\n",
    "        if idx == 0:\n",
    "            break\n",
    "    print(\"Generated samples:\", ''.join(idx_to_char[i] for i in samples))"
   ]
  }
 ],
 "metadata": {
  "kernelspec": {
   "display_name": ".venv",
   "language": "python",
   "name": "python3"
  },
  "language_info": {
   "codemirror_mode": {
    "name": "ipython",
    "version": 3
   },
   "file_extension": ".py",
   "mimetype": "text/x-python",
   "name": "python",
   "nbconvert_exporter": "python",
   "pygments_lexer": "ipython3",
   "version": "3.12.4"
  }
 },
 "nbformat": 4,
 "nbformat_minor": 5
}
